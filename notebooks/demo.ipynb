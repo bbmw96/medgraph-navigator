{
 "cells": [
  {
   "cell_type": "markdown",
   "metadata": {},
   "source": [
    "# MedGraph Navigator Demo\n",
    "This notebook demonstrates the key features of the MedGraph Navigator system."
   ]
  },
  {
   "cell_type": "code",
   "execution_count": null,
   "metadata": {},
   "source": [
    "import sys\n",
    "sys.path.append('../')\n",
    "\n",
    "from src.backend.graph_navigator import MedGraphNavigator\n",
    "from src.utils.data_generation import generate_demo_data\n",
    "from src.utils.gpu_utils import check_gpu_availability"
   ]
  },
  {
   "cell_type": "markdown",
   "metadata": {},
   "source": [
    "## Initialize System"
   ]
  },
  {
   "cell_type": "code",
   "execution_count": null,
   "metadata": {},
   "source": [
    "# Check GPU availability\n",
    "available, device, props = check_gpu_availability()\n",
    "print(f\"GPU Available: {available}\")\n",
    "if available:\n",
    "    print(f\"Device: {props['name']}\")\n",
    "\n",
    "# Initialize navigator\n",
    "navigator = MedGraphNavigator()\n",
    "success = navigator.load_synthea_data()\n",
    "print(f\"Data loaded successfully: {success}\")"
   ]
  }
 ],
 "metadata": {
  "kernelspec": {
   "display_name": "Python 3",
   "language": "python",
   "name": "python3"
  }
 },
 "nbformat": 4,
 "nbformat_minor": 4
}
